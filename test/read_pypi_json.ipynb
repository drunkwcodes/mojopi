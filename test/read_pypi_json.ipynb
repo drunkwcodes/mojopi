{
 "cells": [
  {
   "cell_type": "code",
   "execution_count": 2,
   "metadata": {},
   "outputs": [
    {
     "data": {
      "text/plain": [
       "46"
      ]
     },
     "execution_count": 2,
     "metadata": {},
     "output_type": "execute_result"
    }
   ],
   "source": [
    "import json\n",
    "from pprint import pprint\n",
    "\n",
    "with open(\"pypi_asdf.json\", encoding=\"utf-8\") as f:\n",
    "    asdf = json.load(f)\n",
    "\n",
    "\n",
    "# pprint(asdf)\n",
    "len(dir(asdf))"
   ]
  },
  {
   "cell_type": "code",
   "execution_count": 3,
   "metadata": {},
   "outputs": [
    {
     "name": "stdout",
     "output_type": "stream",
     "text": [
      "True\n",
      "True\n"
     ]
    },
    {
     "data": {
      "text/plain": [
       "['info', 'last_serial', 'releases', 'urls', 'vulnerabilities']"
      ]
     },
     "execution_count": 3,
     "metadata": {},
     "output_type": "execute_result"
    }
   ],
   "source": [
    "k_asdf = asdf.keys()\n",
    "\n",
    "k_asdf = [item for item in k_asdf if item[0] != \"_\"]\n",
    "k_asdf\n",
    "\n",
    "print(\"info\" in asdf.keys())\n",
    "print(\"info\" in k_asdf)\n",
    "k_asdf"
   ]
  },
  {
   "cell_type": "code",
   "execution_count": 4,
   "metadata": {},
   "outputs": [
    {
     "name": "stdout",
     "output_type": "stream",
     "text": [
      "['author',\n",
      " 'author_email',\n",
      " 'bugtrack_url',\n",
      " 'classifiers',\n",
      " 'description',\n",
      " 'description_content_type',\n",
      " 'docs_url',\n",
      " 'download_url',\n",
      " 'downloads',\n",
      " 'home_page',\n",
      " 'keywords',\n",
      " 'license',\n",
      " 'maintainer',\n",
      " 'maintainer_email',\n",
      " 'name',\n",
      " 'package_url',\n",
      " 'platform',\n",
      " 'project_url',\n",
      " 'project_urls',\n",
      " 'release_url',\n",
      " 'requires_dist',\n",
      " 'requires_python',\n",
      " 'summary',\n",
      " 'version',\n",
      " 'yanked',\n",
      " 'yanked_reason']\n"
     ]
    }
   ],
   "source": [
    "asdf[\"info\"]\n",
    "\n",
    "info_keys = list(asdf[\"info\"].keys())\n",
    "\n",
    "pprint(info_keys, width=40)"
   ]
  },
  {
   "cell_type": "code",
   "execution_count": 5,
   "metadata": {},
   "outputs": [
    {
     "data": {
      "text/plain": [
       "''"
      ]
     },
     "execution_count": 5,
     "metadata": {},
     "output_type": "execute_result"
    }
   ],
   "source": [
    "info = asdf[\"info\"]\n",
    "\n",
    "info[\"keywords\"]"
   ]
  },
  {
   "cell_type": "code",
   "execution_count": 6,
   "metadata": {},
   "outputs": [
    {
     "data": {
      "text/plain": [
       "'BSD 3-Clause License  Copyright (c) 2021 Association of Universities for Research in Astronomy. All rights reserved.  Redistribution and use in source and binary forms, with or without modification, are permitted provided that the following conditions are met:  1. Redistributions of source code must retain the above copyright notice, this list of conditions and the following disclaimer.  2. Redistributions in binary form must reproduce the above copyright notice, this list of conditions and the following disclaimer in the documentation and/or other materials provided with the distribution.  3. Neither the name of the copyright holder nor the names of its contributors may be used to endorse or promote products derived from this software without specific prior written permission.  THIS SOFTWARE IS PROVIDED BY THE COPYRIGHT HOLDERS AND CONTRIBUTORS \"AS IS\" AND ANY EXPRESS OR IMPLIED WARRANTIES, INCLUDING, BUT NOT LIMITED TO, THE IMPLIED WARRANTIES OF MERCHANTABILITY AND FITNESS FOR A PARTICULAR PURPOSE ARE DISCLAIMED. IN NO EVENT SHALL THE COPYRIGHT HOLDER OR CONTRIBUTORS BE LIABLE FOR ANY DIRECT, INDIRECT, INCIDENTAL, SPECIAL, EXEMPLARY, OR CONSEQUENTIAL DAMAGES (INCLUDING, BUT NOT LIMITED TO, PROCUREMENT OF SUBSTITUTE GOODS OR SERVICES; LOSS OF USE, DATA, OR PROFITS; OR BUSINESS INTERRUPTION) HOWEVER CAUSED AND ON ANY THEORY OF LIABILITY, WHETHER IN CONTRACT, STRICT LIABILITY, OR TORT (INCLUDING NEGLIGENCE OR OTHERWISE) ARISING IN ANY WAY OUT OF THE USE OF THIS SOFTWARE, EVEN IF ADVISED OF THE POSSIBILITY OF SUCH DAMAGE. '"
      ]
     },
     "execution_count": 6,
     "metadata": {},
     "output_type": "execute_result"
    }
   ],
   "source": [
    "info[\"license\"]"
   ]
  },
  {
   "cell_type": "code",
   "execution_count": 7,
   "metadata": {},
   "outputs": [
    {
     "data": {
      "text/plain": [
       "'https://pypi.org/project/asdf/'"
      ]
     },
     "execution_count": 7,
     "metadata": {},
     "output_type": "execute_result"
    }
   ],
   "source": [
    "info[\"package_url\"]"
   ]
  },
  {
   "cell_type": "code",
   "execution_count": 8,
   "metadata": {},
   "outputs": [],
   "source": [
    "info[\"platform\"]"
   ]
  },
  {
   "cell_type": "code",
   "execution_count": 9,
   "metadata": {},
   "outputs": [
    {
     "data": {
      "text/plain": [
       "'https://pypi.org/project/asdf/2.15.0/'"
      ]
     },
     "execution_count": 9,
     "metadata": {},
     "output_type": "execute_result"
    }
   ],
   "source": [
    "info[\"release_url\"]"
   ]
  },
  {
   "cell_type": "code",
   "execution_count": 10,
   "metadata": {},
   "outputs": [
    {
     "data": {
      "text/plain": [
       "['asdf-standard (>=1.0.1)',\n",
       " 'asdf-transform-schemas (>=0.3)',\n",
       " 'asdf-unit-schemas (>=0.1)',\n",
       " 'importlib-metadata (>=4.11.4)',\n",
       " 'jmespath (>=0.6.2)',\n",
       " 'jsonschema (<4.18,>=4.0.1)',\n",
       " 'numpy (>=1.20)',\n",
       " 'packaging (>=19)',\n",
       " 'pyyaml (>=5.4.1)',\n",
       " 'semantic-version (>=2.8)',\n",
       " 'importlib-resources (>=3) ; python_version < \"3.9\"',\n",
       " 'numpy (<1.25,>=1.20) ; python_version < \"3.9\"',\n",
       " \"lz4 (>=0.10) ; extra == 'all'\",\n",
       " \"sphinx-asdf (>=0.1.4) ; extra == 'docs'\",\n",
       " 'tomli ; (python_version < \"3.11\") and extra == \\'docs\\'',\n",
       " \"astropy (>=5.0.4) ; extra == 'tests'\",\n",
       " \"fsspec[http] (>=2022.8.2) ; extra == 'tests'\",\n",
       " \"gwcs (>=0.18.3) ; extra == 'tests'\",\n",
       " \"lz4 (>=0.10) ; extra == 'tests'\",\n",
       " \"psutil ; extra == 'tests'\",\n",
       " \"pytest (>=6) ; extra == 'tests'\",\n",
       " \"pytest-doctestplus ; extra == 'tests'\",\n",
       " \"pytest-openfiles ; extra == 'tests'\",\n",
       " \"pytest-remotedata ; extra == 'tests'\"]"
      ]
     },
     "execution_count": 10,
     "metadata": {},
     "output_type": "execute_result"
    }
   ],
   "source": [
    "info[\"requires_dist\"]"
   ]
  },
  {
   "cell_type": "code",
   "execution_count": 11,
   "metadata": {},
   "outputs": [
    {
     "data": {
      "text/plain": [
       "'>=3.8'"
      ]
     },
     "execution_count": 11,
     "metadata": {},
     "output_type": "execute_result"
    }
   ],
   "source": [
    "info[\"requires_python\"]"
   ]
  },
  {
   "cell_type": "code",
   "execution_count": 12,
   "metadata": {},
   "outputs": [
    {
     "data": {
      "text/plain": [
       "'Python implementation of the ASDF Standard'"
      ]
     },
     "execution_count": 12,
     "metadata": {},
     "output_type": "execute_result"
    }
   ],
   "source": [
    "info[\"summary\"]"
   ]
  },
  {
   "cell_type": "code",
   "execution_count": 13,
   "metadata": {},
   "outputs": [
    {
     "data": {
      "text/plain": [
       "'2.15.0'"
      ]
     },
     "execution_count": 13,
     "metadata": {},
     "output_type": "execute_result"
    }
   ],
   "source": [
    "info[\"version\"]"
   ]
  },
  {
   "cell_type": "code",
   "execution_count": 14,
   "metadata": {},
   "outputs": [
    {
     "data": {
      "text/plain": [
       "False"
      ]
     },
     "execution_count": 14,
     "metadata": {},
     "output_type": "execute_result"
    }
   ],
   "source": [
    "info[\"yanked\"]"
   ]
  },
  {
   "cell_type": "code",
   "execution_count": 15,
   "metadata": {},
   "outputs": [],
   "source": [
    "info[\"yanked_reason\"]"
   ]
  },
  {
   "cell_type": "code",
   "execution_count": 16,
   "metadata": {},
   "outputs": [
    {
     "data": {
      "text/plain": [
       "''"
      ]
     },
     "execution_count": 16,
     "metadata": {},
     "output_type": "execute_result"
    }
   ],
   "source": [
    "info[\"maintainer\"]"
   ]
  },
  {
   "cell_type": "code",
   "execution_count": null,
   "metadata": {},
   "outputs": [],
   "source": []
  }
 ],
 "metadata": {
  "kernelspec": {
   "display_name": ".venv",
   "language": "python",
   "name": "python3"
  },
  "language_info": {
   "codemirror_mode": {
    "name": "ipython",
    "version": 3
   },
   "file_extension": ".py",
   "mimetype": "text/x-python",
   "name": "python",
   "nbconvert_exporter": "python",
   "pygments_lexer": "ipython3",
   "version": "3.11.4"
  },
  "orig_nbformat": 4
 },
 "nbformat": 4,
 "nbformat_minor": 2
}
